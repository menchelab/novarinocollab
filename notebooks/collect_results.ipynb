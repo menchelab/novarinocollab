{
 "cells": [
  {
   "cell_type": "code",
   "execution_count": 20,
   "id": "based-norfolk",
   "metadata": {},
   "outputs": [],
   "source": [
    "import pandas as pd\n",
    "import glob\n",
    "\n",
    "def collect_salmon_quant(globpattern, output_prefix):\n",
    "    for prefix in ['quant', 'quant.genes']:\n",
    "        # generating templates for tpm and read count quant\n",
    "        template = pd.read_csv(\n",
    "            glob.glob(globpattern)[0], \n",
    "            sep = '\\t'\n",
    "        )\n",
    "        quant_keys = ['TPM', 'NumReads']\n",
    "        quant_dfs = {\n",
    "            key: template[['Name']].copy() for key in quant_keys\n",
    "        }\n",
    "\n",
    "        # iterating over files and collecting quantifications\n",
    "        for file in glob.glob(globpattern):\n",
    "            res = pd.read_csv(\n",
    "                file,\n",
    "                sep = '\\t'\n",
    "            )\n",
    "            for key in quant_keys:\n",
    "                tmp = res.loc[:, ['Name', key]]\n",
    "                tmp.rename(\n",
    "                    columns = {key: file.split('/')[3]},\n",
    "                    inplace = True\n",
    "                )\n",
    "                quant_dfs[key] = quant_dfs[key].merge(\n",
    "                    tmp,\n",
    "                    on = 'Name',\n",
    "                    how = 'left'\n",
    "                )\n",
    "\n",
    "        # add metadata, reformat and output\n",
    "        for key in quant_keys:\n",
    "            sample_names = list(quant_dfs[key].columns[1:])\n",
    "            colnames = list(template.columns[:3])\n",
    "            tmp = quant_dfs[key].merge(\n",
    "                template.loc[:, colnames].copy(),\n",
    "                on = 'Name',\n",
    "                how = 'left'\n",
    "            )\n",
    "            tmp.loc[:, colnames + sample_names].to_csv(\n",
    "                f'../raw/{output_prefix}_salmon_{prefix}_{key}.tsv',\n",
    "                sep = '\\t',\n",
    "                index = False\n",
    "            )"
   ]
  },
  {
   "cell_type": "code",
   "execution_count": 21,
   "id": "bound-powell",
   "metadata": {},
   "outputs": [],
   "source": [
    "collect_salmon_quant(\n",
    "    f'../results/star_salmon/16*/{prefix}.sf',\n",
    "    'scRNA'\n",
    ")"
   ]
  },
  {
   "cell_type": "code",
   "execution_count": 22,
   "id": "undefined-bridal",
   "metadata": {},
   "outputs": [],
   "source": [
    "collect_salmon_quant(\n",
    "    f'../results/star_salmon/8*/{prefix}.sf',\n",
    "    'RNA'\n",
    ")"
   ]
  }
 ],
 "metadata": {
  "kernelspec": {
   "display_name": "scpython",
   "language": "python",
   "name": "scpython"
  },
  "language_info": {
   "codemirror_mode": {
    "name": "ipython",
    "version": 3
   },
   "file_extension": ".py",
   "mimetype": "text/x-python",
   "name": "python",
   "nbconvert_exporter": "python",
   "pygments_lexer": "ipython3",
   "version": "3.9.4"
  }
 },
 "nbformat": 4,
 "nbformat_minor": 5
}
